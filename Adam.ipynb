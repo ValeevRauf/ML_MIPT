{
 "cells": [
  {
   "cell_type": "code",
   "execution_count": 1,
   "id": "8a1233f3",
   "metadata": {},
   "outputs": [],
   "source": [
    "import numpy as np"
   ]
  },
  {
   "cell_type": "markdown",
   "id": "6b7d6ee2",
   "metadata": {},
   "source": [
    "$$ f(x) = -\\cos x_1^2 - \\cos x_2^2 -x_1 - x_2$$\n",
    "$$ \\nabla f(x) = \\left(\\begin{array}{1}\n",
    "2x_1 \\sin x_1^2 - 1\\\\\n",
    "2x_2 \\sin x_2^2 - 1\n",
    "\\end{array}\\right)$$"
   ]
  },
  {
   "cell_type": "code",
   "execution_count": 12,
   "id": "ebd7fab7",
   "metadata": {},
   "outputs": [
    {
     "name": "stdout",
     "output_type": "stream",
     "text": [
      "1 : [0.25 0.75]\n",
      "2 : [0.58563967 0.60428229]\n",
      "3 : [0.96256447 0.65791692]\n"
     ]
    }
   ],
   "source": [
    "x = np.array([0., 1.])\n",
    "b1 = 0.9\n",
    "b2 = 0.999\n",
    "g = np.array([0.,0.])\n",
    "m = np.array([0.,0.])\n",
    "v = np.array([0.,0.])\n",
    "mm = np.array([0.,0.])\n",
    "vv = np.array([0.,0.])\n",
    "alpha = 0.25\n",
    "for i in range(3):\n",
    "    epsilon = pow(10, -8)\n",
    "    g = 2. * x * np.sin(x ** 2) - np.array([1., 1.])\n",
    "    m = b1 * m + (1.-b1) * g\n",
    "    v = b2 * v + (1.-b2) * g * g\n",
    "    mm = m/(1. - b1)\n",
    "    vv = v/(1. - b2)\n",
    "    x[0] = x[0] - alpha/(np.sqrt(vv[0]) + epsilon) * mm[0]\n",
    "    x[1] = x[1] - alpha/(np.sqrt(vv[1]) + epsilon) * mm[1]\n",
    "    print(i + 1, ':', x)"
   ]
  },
  {
   "cell_type": "markdown",
   "id": "55428d0c",
   "metadata": {},
   "source": [
    "$$x_1 = \\left(\\begin{array}{1}\n",
    "0.25\\\\\n",
    "0.75\n",
    "\\end{array}\\right), x_2 = \\left(\\begin{array}{1}\n",
    "0.59\\\\\n",
    "0.60\n",
    "\\end{array}\\right), x_3 = \\left(\\begin{array}{1}\n",
    "0.96\\\\\n",
    "0.66\n",
    "\\end{array}\\right)$$"
   ]
  },
  {
   "cell_type": "code",
   "execution_count": null,
   "id": "cb93baba",
   "metadata": {},
   "outputs": [],
   "source": []
  }
 ],
 "metadata": {
  "kernelspec": {
   "display_name": "Python 3",
   "language": "python",
   "name": "python3"
  },
  "language_info": {
   "codemirror_mode": {
    "name": "ipython",
    "version": 3
   },
   "file_extension": ".py",
   "mimetype": "text/x-python",
   "name": "python",
   "nbconvert_exporter": "python",
   "pygments_lexer": "ipython3",
   "version": "3.8.8"
  }
 },
 "nbformat": 4,
 "nbformat_minor": 5
}
